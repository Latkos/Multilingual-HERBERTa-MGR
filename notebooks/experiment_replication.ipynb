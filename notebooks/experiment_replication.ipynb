{
 "cells": [
  {
   "cell_type": "code",
   "execution_count": 1,
   "metadata": {},
   "outputs": [],
   "source": [
    "import torch\n",
    "import pandas as pd\n",
    "from experiments.hyperparameters import optuna_hp_space, optuna_hp_space_scientific\n",
    "from named_entity.named_entity_model import NamedEntityModel\n",
    "from relations.relations_model import RelationsModel"
   ]
  },
  {
   "cell_type": "code",
   "execution_count": null,
   "metadata": {},
   "outputs": [],
   "source": [
    "pd.set_option('display.max_rows', 10000)\n",
    "os.chdir(\"..\")"
   ]
  },
  {
   "cell_type": "markdown",
   "metadata": {},
   "source": [
    "# Hyperparameter optimization"
   ]
  },
  {
   "cell_type": "code",
   "execution_count": null,
   "metadata": {},
   "outputs": [],
   "source": [
    "NER_BROAD_FILE_PATH='results/hyperparameter_optimization_ner_broad.txt'\n",
    "RE_BROAD_FILE_PATH='results/hyperparameter_optimization_re_broad.txt'\n",
    "NER_SCIENTIFIC_FILE_PATH='results/hyperparameter_optimization_ner_scientific.txt'\n",
    "RE_SCIENTIFIC_FILE_PATH='results/hyperparameter_optimization_re_scientific.txt'"
   ]
  },
  {
   "cell_type": "code",
   "execution_count": null,
   "metadata": {},
   "outputs": [],
   "source": [
    "torch.cuda.empty_cache()\n",
    "train_df = pd.read_csv(\"merged_train.tsv\", sep=\"\\t\")\n",
    "test_df = pd.read_csv(\"merged_test.tsv\", sep=\"\\t\")\n",
    "train_df=train_df.sample(frac=0.02,random_state=42)\n",
    "train_df = filter_out_wrong_data(train_df)\n",
    "test_df = filter_out_wrong_data(test_df)\n",
    "ner_model=NamedEntityModel()\n",
    "re_model=RelationsModel()"
   ]
  },
  {
   "cell_type": "markdown",
   "metadata": {},
   "source": [
    "## Broad search"
   ]
  },
  {
   "cell_type": "code",
   "execution_count": null,
   "metadata": {},
   "outputs": [],
   "source": [
    "%%capture captured\n",
    "ner_model.perform_hyperparameter_search(space=optuna_hp_space,train_df=train_df, study_name=\"ner_hyperparameter_search_broad\")\n",
    "with open(NER_BROAD_FILE_PATH, 'w') as f:\n",
    "    f.write(captured.stdout)"
   ]
  },
  {
   "cell_type": "code",
   "execution_count": null,
   "metadata": {},
   "outputs": [],
   "source": [
    "%%capture captured\n",
    "re_model.perform_hyperparameter_search(space=optuna_hp_space,train_df=train_df, study_name=\"re_hyperparameter_search_broad\")\n",
    "with open(RE_BROAD_FILE_PATH, 'w') as f:\n",
    "    f.write(captured.stdout)"
   ]
  },
  {
   "cell_type": "markdown",
   "metadata": {},
   "source": [
    "## Scientific-based search"
   ]
  },
  {
   "cell_type": "code",
   "execution_count": null,
   "metadata": {},
   "outputs": [],
   "source": [
    "%%capture captured\n",
    "ner_model.perform_hyperparameter_search(space=optuna_hp_space_scientific,train_df=train_df, study_name=\"ner_hyperparameter_search_scientific\")\n",
    "with open(NER_SCIENTIFIC_FILE_PATH, 'w') as f:\n",
    "    f.write(captured.stdout)"
   ]
  },
  {
   "cell_type": "code",
   "execution_count": null,
   "metadata": {},
   "outputs": [],
   "source": [
    "%%capture captured\n",
    "re_model.perform_hyperparameter_search(space=optuna_hp_space_scientific,train_df=train_df, study_name=\"re_hyperparameter_search_scientific\")\n",
    "with open(RE_SCIENTIFIC_FILE_PATH, 'w') as f:\n",
    "    f.write(captured.stdout)"
   ]
  },
  {
   "cell_type": "code",
   "execution_count": null,
   "metadata": {},
   "outputs": [],
   "source": [
    "def analyze_optuna_results(file_path):\n",
    "    file_name = os.path.splitext(os.path.basename(ner_broad_file_path))[0]\n",
    "    print(f\"Analyzing: {file_name}\")\n",
    "    df=read_optuna_logs(file_path)\n",
    "    for column in df.columns.values:\n",
    "        if column not in [\"metric\",\"trial_number\"]:\n",
    "            if df[column].dtype == 'int64':\n",
    "                fig = px.histogram(df, x=column, y=\"metric\", title=f\"{column} impact on metric\", histfunc='avg')\n",
    "            else:\n",
    "                fig = px.scatter(df, x=column, y=\"metric\", text='trial_number', trendline=\"ols\", title=f\"{column} impact on metric\")\n",
    "            fig.show()"
   ]
  },
  {
   "cell_type": "markdown",
   "metadata": {},
   "source": [
    "## Analysis"
   ]
  },
  {
   "cell_type": "code",
   "execution_count": null,
   "metadata": {},
   "outputs": [],
   "source": [
    "analyze_optuna_results(file_path=NER_BROAD_FILE_PATH)"
   ]
  },
  {
   "cell_type": "code",
   "execution_count": null,
   "metadata": {},
   "outputs": [],
   "source": [
    "analyze_optuna_results(file_path=RE_BROAD_FILE_PATH)"
   ]
  },
  {
   "cell_type": "code",
   "execution_count": null,
   "metadata": {},
   "outputs": [],
   "source": [
    "analyze_optuna_results(file_path=NER_SCIENTIFIC_FILE_PATH)"
   ]
  },
  {
   "cell_type": "code",
   "execution_count": null,
   "metadata": {},
   "outputs": [],
   "source": [
    "analyze_optuna_results(file_path=RE_SCIENTIFIC_FILE_PATH)"
   ]
  },
  {
   "cell_type": "markdown",
   "metadata": {},
   "source": [
    "# Dataset size impact"
   ]
  },
  {
   "cell_type": "code",
   "execution_count": null,
   "metadata": {},
   "outputs": [],
   "source": [
    "SIZES=[100,1000,5000,10000,20000,50000,100000,200000,300000,400000,500000]"
   ]
  },
  {
   "cell_type": "code",
   "execution_count": null,
   "metadata": {},
   "outputs": [],
   "source": [
    "torch.cuda.empty_cache()\n",
    "train_df = pd.read_csv(\"merged_train.tsv\", sep=\"\\t\")\n",
    "test_df = pd.read_csv(\"merged_test.tsv\", sep=\"\\t\")\n",
    "train_df=train_df.sample(frac=0.5,random_state=42)\n",
    "train_df = filter_out_wrong_data(train_df)\n",
    "test_df = filter_out_wrong_data(test_df)\n",
    "ner_model=NamedEntityModel()\n",
    "re_model=RelationsModel()"
   ]
  },
  {
   "cell_type": "code",
   "execution_count": null,
   "metadata": {},
   "outputs": [],
   "source": [
    "ner_results=test_model_quality_depending_on_dataset_size(model=ner_model, train_df=train_df, test_df=test_df, sizes=SIZES, random_state=42)"
   ]
  },
  {
   "cell_type": "code",
   "execution_count": null,
   "metadata": {},
   "outputs": [],
   "source": [
    "re_results=test_model_quality_depending_on_dataset_size(model=re_model, train_df=train_df, test_df=test_df, sizes=SIZES, random_state=42)"
   ]
  },
  {
   "cell_type": "code",
   "execution_count": null,
   "metadata": {},
   "outputs": [],
   "source": [
    "display(ner_results)"
   ]
  },
  {
   "cell_type": "code",
   "execution_count": null,
   "metadata": {},
   "outputs": [],
   "source": [
    "display(re_results)"
   ]
  },
  {
   "cell_type": "markdown",
   "metadata": {},
   "source": [
    "# Joining The Models Together"
   ]
  },
  {
   "cell_type": "code",
   "execution_count": null,
   "metadata": {},
   "outputs": [],
   "source": [
    "torch.cuda.empty_cache()\n",
    "train_df = pd.read_csv(\"merged_train.tsv\", sep=\"\\t\")\n",
    "test_df = pd.read_csv(\"merged_test.tsv\", sep=\"\\t\")\n",
    "train_df=train_df.sample(frac=0.5,random_state=42)\n",
    "train_df = filter_out_wrong_data(train_df)\n",
    "test_df = filter_out_wrong_data(test_df)\n",
    "ner_model=NamedEntityModel()\n",
    "re_model=RelationsModel()"
   ]
  },
  {
   "cell_type": "code",
   "execution_count": null,
   "metadata": {},
   "outputs": [],
   "source": [
    "# read parameter needs to be set to False if predicting for the first time (and lack NER prediction results for a given dataset subset)\n",
    "test_enhancing_text_used_to_train_re(train_df, test_df, ner_model, re_model, results_file='results_optimized_ner.txt',read=True):"
   ]
  },
  {
   "cell_type": "markdown",
   "metadata": {},
   "source": [
    "# Model Variant Comparison"
   ]
  },
  {
   "cell_type": "code",
   "execution_count": null,
   "metadata": {},
   "outputs": [],
   "source": [
    "torch.cuda.empty_cache()\n",
    "train_df = pd.read_csv(\"merged_train.tsv\", sep=\"\\t\")\n",
    "test_df = pd.read_csv(\"merged_test.tsv\", sep=\"\\t\")\n",
    "train_df=train_df.sample(frac=0.5,random_state=42)\n",
    "train_df = filter_out_wrong_data(train_df)\n",
    "test_df = filter_out_wrong_data(test_df)\n"
   ]
  },
  {
   "cell_type": "markdown",
   "metadata": {},
   "source": [
    "## DistilBERT"
   ]
  },
  {
   "cell_type": "code",
   "execution_count": null,
   "metadata": {},
   "outputs": [],
   "source": [
    "ner_model=NamedEntityModel(model_name='distilbert-base-multilingual-cased',model_path='models/distilbert_ner')\n",
    "ner_model=RelationsModel(model_name='distilbert-base-multilingual-cased',model_path='models/distillbert_re')\n",
    "ner_model.train(train_df=train_df,base_config=None)\n",
    "distilbert_results_ner=ner_model.evaluate(df=test_df)\n",
    "distilbert_results_re=train_re_on_ner(ner_model=ner_model, re_model=re_model, train_df=train_df, test_df=test_df, enhancement_func=TODO, results_file='results_optimized_ner.txt', read=False)\n",
    "# After the first call, the prediction results are surely saved, so we can set read to True"
   ]
  },
  {
   "cell_type": "markdown",
   "metadata": {},
   "source": [
    "## XLMRoBERTa"
   ]
  },
  {
   "cell_type": "code",
   "execution_count": null,
   "metadata": {},
   "outputs": [],
   "source": [
    "ner_model=NamedEntityModel(model_name='xlm-roberta-base',model_path='models/xlmroberta_ner')\n",
    "ner_model=RelationsModel(model_name='xlm-roberta-base',model_path='models/xlmroberta_re')\n",
    "ner_model.train(train_df=train_df,base_config=None)\n",
    "xlmroberta_results_ner=ner_model.evaluate(df=test_df)\n",
    "xlmroberta_results_nererta_results_re=train_re_on_ner(ner_model=ner_model, re_model=re_model, train_df=train_df, test_df=test_df, enhancement_func=TODO, results_file='results_optimized_ner.txt', read=False)\n",
    "# After the first call, the prediction results are surely saved, so we can set read to True"
   ]
  },
  {
   "cell_type": "markdown",
   "metadata": {},
   "source": [
    "# Prediction Error Analysis"
   ]
  },
  {
   "cell_type": "code",
   "execution_count": null,
   "metadata": {},
   "outputs": [],
   "source": [
    "torch.cuda.empty_cache()\n",
    "train_df = pd.read_csv(\"merged_train.tsv\", sep=\"\\t\")\n",
    "test_df = pd.read_csv(\"merged_test.tsv\", sep=\"\\t\")\n",
    "train_df=train_df.sample(frac=0.5,random_state=42)\n",
    "train_df = filter_out_wrong_data(train_df)\n",
    "test_df = filter_out_wrong_data(test_df)\n",
    "ner_model=NamedEntityModel(model_path=BEST_NER_MODEL)\n",
    "re_model=RelationsModel(model_path=BEST_RE_MODEL)"
   ]
  },
  {
   "cell_type": "markdown",
   "metadata": {},
   "source": [
    "## F1 per relation"
   ]
  },
  {
   "cell_type": "code",
   "execution_count": null,
   "metadata": {},
   "outputs": [],
   "source": [
    "evaluate_with_division_between_column(model=re_model, test_df=test_df, column_name=\"relation\"):"
   ]
  },
  {
   "cell_type": "code",
   "execution_count": null,
   "metadata": {},
   "outputs": [],
   "source": []
  },
  {
   "cell_type": "markdown",
   "metadata": {},
   "source": [
    "## Entity 1 vs Entity 2"
   ]
  },
  {
   "cell_type": "code",
   "execution_count": null,
   "metadata": {},
   "outputs": [],
   "source": []
  },
  {
   "cell_type": "markdown",
   "metadata": {},
   "source": [
    "# Linguistic Experiments"
   ]
  },
  {
   "cell_type": "code",
   "execution_count": null,
   "metadata": {},
   "outputs": [],
   "source": []
  },
  {
   "cell_type": "markdown",
   "metadata": {},
   "source": [
    "# Dataset Error Analysis"
   ]
  },
  {
   "cell_type": "code",
   "execution_count": null,
   "metadata": {},
   "outputs": [],
   "source": []
  },
  {
   "cell_type": "code",
   "execution_count": null,
   "metadata": {},
   "outputs": [],
   "source": []
  },
  {
   "cell_type": "code",
   "execution_count": null,
   "metadata": {},
   "outputs": [],
   "source": []
  }
 ],
 "metadata": {
  "kernelspec": {
   "display_name": "Python 3 (ipykernel)",
   "language": "python",
   "name": "python3"
  },
  "language_info": {
   "codemirror_mode": {
    "name": "ipython",
    "version": 3
   },
   "file_extension": ".py",
   "mimetype": "text/x-python",
   "name": "python",
   "nbconvert_exporter": "python",
   "pygments_lexer": "ipython3",
   "version": "3.8.6"
  }
 },
 "nbformat": 4,
 "nbformat_minor": 1
}